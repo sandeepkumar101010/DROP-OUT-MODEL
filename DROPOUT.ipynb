{
 "cells": [
  {
   "cell_type": "code",
   "execution_count": 1,
   "metadata": {},
   "outputs": [],
   "source": [
    "import os\n",
    "os.chdir('E:/sandy/drop out ratio')"
   ]
  },
  {
   "cell_type": "code",
   "execution_count": 2,
   "metadata": {},
   "outputs": [],
   "source": [
    "#importing data set\n",
    "import pandas as pd\n",
    "df = pd.read_csv('MOOC_Visual.csv')"
   ]
  },
  {
   "cell_type": "code",
   "execution_count": 71,
   "metadata": {},
   "outputs": [
    {
     "data": {
      "text/html": [
       "<div>\n",
       "<style scoped>\n",
       "    .dataframe tbody tr th:only-of-type {\n",
       "        vertical-align: middle;\n",
       "    }\n",
       "\n",
       "    .dataframe tbody tr th {\n",
       "        vertical-align: top;\n",
       "    }\n",
       "\n",
       "    .dataframe thead th {\n",
       "        text-align: right;\n",
       "    }\n",
       "</style>\n",
       "<table border=\"1\" class=\"dataframe\">\n",
       "  <thead>\n",
       "    <tr style=\"text-align: right;\">\n",
       "      <th></th>\n",
       "      <th>enrollment_id</th>\n",
       "      <th>startdate</th>\n",
       "      <th>enddate</th>\n",
       "      <th>access</th>\n",
       "      <th>discussion</th>\n",
       "      <th>navigate</th>\n",
       "      <th>page_close</th>\n",
       "      <th>problem</th>\n",
       "      <th>video</th>\n",
       "      <th>wiki</th>\n",
       "      <th>...</th>\n",
       "      <th>Saturday</th>\n",
       "      <th>Sunday</th>\n",
       "      <th>Thursday</th>\n",
       "      <th>Tuesday</th>\n",
       "      <th>Wednesday</th>\n",
       "      <th>holidays</th>\n",
       "      <th>course_enroll</th>\n",
       "      <th>user_enroll</th>\n",
       "      <th>course_drop_rate</th>\n",
       "      <th>dropout_prob</th>\n",
       "    </tr>\n",
       "  </thead>\n",
       "  <tbody>\n",
       "    <tr>\n",
       "      <th>0</th>\n",
       "      <td>1</td>\n",
       "      <td>2014-05-31</td>\n",
       "      <td>2014-06-01</td>\n",
       "      <td>27</td>\n",
       "      <td>0</td>\n",
       "      <td>8</td>\n",
       "      <td>0</td>\n",
       "      <td>79</td>\n",
       "      <td>0</td>\n",
       "      <td>0</td>\n",
       "      <td>...</td>\n",
       "      <td>1</td>\n",
       "      <td>1</td>\n",
       "      <td>0</td>\n",
       "      <td>0</td>\n",
       "      <td>0</td>\n",
       "      <td>0</td>\n",
       "      <td>4684</td>\n",
       "      <td>1</td>\n",
       "      <td>0.826534</td>\n",
       "      <td>1</td>\n",
       "    </tr>\n",
       "    <tr>\n",
       "      <th>1</th>\n",
       "      <td>2</td>\n",
       "      <td>2014-06-04</td>\n",
       "      <td>2014-06-04</td>\n",
       "      <td>7</td>\n",
       "      <td>4</td>\n",
       "      <td>3</td>\n",
       "      <td>4</td>\n",
       "      <td>0</td>\n",
       "      <td>3</td>\n",
       "      <td>1</td>\n",
       "      <td>...</td>\n",
       "      <td>0</td>\n",
       "      <td>0</td>\n",
       "      <td>0</td>\n",
       "      <td>0</td>\n",
       "      <td>1</td>\n",
       "      <td>0</td>\n",
       "      <td>7775</td>\n",
       "      <td>1</td>\n",
       "      <td>0.836914</td>\n",
       "      <td>1</td>\n",
       "    </tr>\n",
       "    <tr>\n",
       "      <th>2</th>\n",
       "      <td>3</td>\n",
       "      <td>2014-06-04</td>\n",
       "      <td>2014-06-08</td>\n",
       "      <td>34</td>\n",
       "      <td>1</td>\n",
       "      <td>6</td>\n",
       "      <td>7</td>\n",
       "      <td>0</td>\n",
       "      <td>9</td>\n",
       "      <td>0</td>\n",
       "      <td>...</td>\n",
       "      <td>1</td>\n",
       "      <td>1</td>\n",
       "      <td>1</td>\n",
       "      <td>0</td>\n",
       "      <td>1</td>\n",
       "      <td>0</td>\n",
       "      <td>3005</td>\n",
       "      <td>2</td>\n",
       "      <td>0.868481</td>\n",
       "      <td>0</td>\n",
       "    </tr>\n",
       "    <tr>\n",
       "      <th>3</th>\n",
       "      <td>4</td>\n",
       "      <td>2014-06-12</td>\n",
       "      <td>2014-06-13</td>\n",
       "      <td>54</td>\n",
       "      <td>4</td>\n",
       "      <td>6</td>\n",
       "      <td>46</td>\n",
       "      <td>21</td>\n",
       "      <td>31</td>\n",
       "      <td>1</td>\n",
       "      <td>...</td>\n",
       "      <td>0</td>\n",
       "      <td>0</td>\n",
       "      <td>1</td>\n",
       "      <td>0</td>\n",
       "      <td>0</td>\n",
       "      <td>0</td>\n",
       "      <td>2981</td>\n",
       "      <td>2</td>\n",
       "      <td>0.799671</td>\n",
       "      <td>1</td>\n",
       "    </tr>\n",
       "    <tr>\n",
       "      <th>4</th>\n",
       "      <td>5</td>\n",
       "      <td>2014-07-01</td>\n",
       "      <td>2014-07-01</td>\n",
       "      <td>0</td>\n",
       "      <td>0</td>\n",
       "      <td>2</td>\n",
       "      <td>0</td>\n",
       "      <td>0</td>\n",
       "      <td>0</td>\n",
       "      <td>0</td>\n",
       "      <td>...</td>\n",
       "      <td>0</td>\n",
       "      <td>0</td>\n",
       "      <td>0</td>\n",
       "      <td>1</td>\n",
       "      <td>0</td>\n",
       "      <td>0</td>\n",
       "      <td>10322</td>\n",
       "      <td>1</td>\n",
       "      <td>0.695925</td>\n",
       "      <td>1</td>\n",
       "    </tr>\n",
       "  </tbody>\n",
       "</table>\n",
       "<p>5 rows × 25 columns</p>\n",
       "</div>"
      ],
      "text/plain": [
       "   enrollment_id   startdate     enddate  access  discussion  navigate  \\\n",
       "0              1  2014-05-31  2014-06-01      27           0         8   \n",
       "1              2  2014-06-04  2014-06-04       7           4         3   \n",
       "2              3  2014-06-04  2014-06-08      34           1         6   \n",
       "3              4  2014-06-12  2014-06-13      54           4         6   \n",
       "4              5  2014-07-01  2014-07-01       0           0         2   \n",
       "\n",
       "   page_close  problem  video  wiki  ...  Saturday  Sunday  Thursday  Tuesday  \\\n",
       "0           0       79      0     0  ...         1       1         0        0   \n",
       "1           4        0      3     1  ...         0       0         0        0   \n",
       "2           7        0      9     0  ...         1       1         1        0   \n",
       "3          46       21     31     1  ...         0       0         1        0   \n",
       "4           0        0      0     0  ...         0       0         0        1   \n",
       "\n",
       "   Wednesday  holidays  course_enroll  user_enroll  course_drop_rate  \\\n",
       "0          0         0           4684            1          0.826534   \n",
       "1          1         0           7775            1          0.836914   \n",
       "2          1         0           3005            2          0.868481   \n",
       "3          0         0           2981            2          0.799671   \n",
       "4          0         0          10322            1          0.695925   \n",
       "\n",
       "   dropout_prob  \n",
       "0             1  \n",
       "1             1  \n",
       "2             0  \n",
       "3             1  \n",
       "4             1  \n",
       "\n",
       "[5 rows x 25 columns]"
      ]
     },
     "execution_count": 71,
     "metadata": {},
     "output_type": "execute_result"
    }
   ],
   "source": [
    "df.head()"
   ]
  },
  {
   "cell_type": "code",
   "execution_count": 3,
   "metadata": {},
   "outputs": [
    {
     "data": {
      "text/plain": [
       "0    53521\n",
       "1    15041\n",
       "2     2790\n",
       "3      795\n",
       "4      171\n",
       "5        7\n",
       "Name: Saturday, dtype: int64"
      ]
     },
     "execution_count": 3,
     "metadata": {},
     "output_type": "execute_result"
    }
   ],
   "source": [
    "df['Saturday'].value_counts()"
   ]
  },
  {
   "cell_type": "code",
   "execution_count": 14,
   "metadata": {},
   "outputs": [
    {
     "data": {
      "text/plain": [
       "Index(['enrollment_id', 'access', 'discussion', 'navigate', 'page_close',\n",
       "       'problem', 'video', 'wiki', 'proccess_period', 'present_days',\n",
       "       'effective_time', 'Friday', 'Monday', 'Saturday', 'Sunday', 'Thursday',\n",
       "       'Tuesday', 'Wednesday', 'holidays', 'course_enroll', 'user_enroll',\n",
       "       'course_drop_rate', 'dropout_prob', 'start_year', 'start_month',\n",
       "       'end_year', 'end_month'],\n",
       "      dtype='object')"
      ]
     },
     "execution_count": 14,
     "metadata": {},
     "output_type": "execute_result"
    }
   ],
   "source": [
    "df.columns"
   ]
  },
  {
   "cell_type": "code",
   "execution_count": 13,
   "metadata": {},
   "outputs": [],
   "source": [
    "#coverting start date and end date to datetime with pandas and then taking month and year from both"
   ]
  },
  {
   "cell_type": "code",
   "execution_count": 3,
   "metadata": {},
   "outputs": [],
   "source": [
    "df['startdate'] = pd.to_datetime(df['startdate'])\n",
    "df['enddate'] = pd.to_datetime(df['enddate'])\n",
    "\n",
    "df['start_year'] = df['startdate'].dt.year\n",
    "df['start_month'] = df['startdate'].dt.month\n",
    "df['end_year'] = df['enddate'].dt.year\n",
    "df['end_month'] = df['enddate'].dt.month\n"
   ]
  },
  {
   "cell_type": "code",
   "execution_count": 4,
   "metadata": {},
   "outputs": [],
   "source": [
    "#dropping startdate and enddate column \n",
    "df.drop(['startdate', 'enddate'],axis = 1,inplace = True)"
   ]
  },
  {
   "cell_type": "code",
   "execution_count": 6,
   "metadata": {},
   "outputs": [
    {
     "data": {
      "text/html": [
       "<div>\n",
       "<style scoped>\n",
       "    .dataframe tbody tr th:only-of-type {\n",
       "        vertical-align: middle;\n",
       "    }\n",
       "\n",
       "    .dataframe tbody tr th {\n",
       "        vertical-align: top;\n",
       "    }\n",
       "\n",
       "    .dataframe thead th {\n",
       "        text-align: right;\n",
       "    }\n",
       "</style>\n",
       "<table border=\"1\" class=\"dataframe\">\n",
       "  <thead>\n",
       "    <tr style=\"text-align: right;\">\n",
       "      <th></th>\n",
       "      <th>enrollment_id</th>\n",
       "      <th>access</th>\n",
       "      <th>discussion</th>\n",
       "      <th>navigate</th>\n",
       "      <th>page_close</th>\n",
       "      <th>problem</th>\n",
       "      <th>video</th>\n",
       "      <th>wiki</th>\n",
       "      <th>proccess_period</th>\n",
       "      <th>present_days</th>\n",
       "      <th>...</th>\n",
       "      <th>Wednesday</th>\n",
       "      <th>holidays</th>\n",
       "      <th>course_enroll</th>\n",
       "      <th>user_enroll</th>\n",
       "      <th>course_drop_rate</th>\n",
       "      <th>dropout_prob</th>\n",
       "      <th>start_year</th>\n",
       "      <th>start_month</th>\n",
       "      <th>end_year</th>\n",
       "      <th>end_month</th>\n",
       "    </tr>\n",
       "  </thead>\n",
       "  <tbody>\n",
       "    <tr>\n",
       "      <th>count</th>\n",
       "      <td>72325.000000</td>\n",
       "      <td>72325.000000</td>\n",
       "      <td>72325.000000</td>\n",
       "      <td>72325.000000</td>\n",
       "      <td>72325.000000</td>\n",
       "      <td>72325.000000</td>\n",
       "      <td>72325.000000</td>\n",
       "      <td>72325.000000</td>\n",
       "      <td>72325.000000</td>\n",
       "      <td>72325.000000</td>\n",
       "      <td>...</td>\n",
       "      <td>72325.00000</td>\n",
       "      <td>72325.000000</td>\n",
       "      <td>72325.000000</td>\n",
       "      <td>72325.000000</td>\n",
       "      <td>72325.000000</td>\n",
       "      <td>72325.000000</td>\n",
       "      <td>72325.00000</td>\n",
       "      <td>72325.000000</td>\n",
       "      <td>72325.000000</td>\n",
       "      <td>72325.000000</td>\n",
       "    </tr>\n",
       "    <tr>\n",
       "      <th>mean</th>\n",
       "      <td>36163.000000</td>\n",
       "      <td>25.707045</td>\n",
       "      <td>5.247992</td>\n",
       "      <td>8.330052</td>\n",
       "      <td>10.182966</td>\n",
       "      <td>10.446429</td>\n",
       "      <td>6.566678</td>\n",
       "      <td>0.741652</td>\n",
       "      <td>5.790234</td>\n",
       "      <td>2.662067</td>\n",
       "      <td>...</td>\n",
       "      <td>0.39870</td>\n",
       "      <td>0.095099</td>\n",
       "      <td>5618.856772</td>\n",
       "      <td>2.460242</td>\n",
       "      <td>0.793640</td>\n",
       "      <td>0.793640</td>\n",
       "      <td>2013.69702</td>\n",
       "      <td>7.256080</td>\n",
       "      <td>2013.729997</td>\n",
       "      <td>7.073391</td>\n",
       "    </tr>\n",
       "    <tr>\n",
       "      <th>std</th>\n",
       "      <td>20878.573447</td>\n",
       "      <td>54.679282</td>\n",
       "      <td>28.351693</td>\n",
       "      <td>12.641069</td>\n",
       "      <td>20.552585</td>\n",
       "      <td>34.335217</td>\n",
       "      <td>14.662946</td>\n",
       "      <td>3.503804</td>\n",
       "      <td>8.966359</td>\n",
       "      <td>3.093727</td>\n",
       "      <td>...</td>\n",
       "      <td>0.68801</td>\n",
       "      <td>0.293918</td>\n",
       "      <td>3686.987244</td>\n",
       "      <td>2.381182</td>\n",
       "      <td>0.066570</td>\n",
       "      <td>0.404695</td>\n",
       "      <td>0.45955</td>\n",
       "      <td>3.046145</td>\n",
       "      <td>0.443964</td>\n",
       "      <td>3.112376</td>\n",
       "    </tr>\n",
       "    <tr>\n",
       "      <th>min</th>\n",
       "      <td>1.000000</td>\n",
       "      <td>0.000000</td>\n",
       "      <td>0.000000</td>\n",
       "      <td>0.000000</td>\n",
       "      <td>0.000000</td>\n",
       "      <td>0.000000</td>\n",
       "      <td>0.000000</td>\n",
       "      <td>0.000000</td>\n",
       "      <td>0.000000</td>\n",
       "      <td>1.000000</td>\n",
       "      <td>...</td>\n",
       "      <td>0.00000</td>\n",
       "      <td>0.000000</td>\n",
       "      <td>645.000000</td>\n",
       "      <td>1.000000</td>\n",
       "      <td>0.666866</td>\n",
       "      <td>0.000000</td>\n",
       "      <td>2013.00000</td>\n",
       "      <td>1.000000</td>\n",
       "      <td>2013.000000</td>\n",
       "      <td>1.000000</td>\n",
       "    </tr>\n",
       "    <tr>\n",
       "      <th>25%</th>\n",
       "      <td>18082.000000</td>\n",
       "      <td>1.000000</td>\n",
       "      <td>0.000000</td>\n",
       "      <td>2.000000</td>\n",
       "      <td>0.000000</td>\n",
       "      <td>0.000000</td>\n",
       "      <td>0.000000</td>\n",
       "      <td>0.000000</td>\n",
       "      <td>0.001204</td>\n",
       "      <td>1.000000</td>\n",
       "      <td>...</td>\n",
       "      <td>0.00000</td>\n",
       "      <td>0.000000</td>\n",
       "      <td>2151.000000</td>\n",
       "      <td>1.000000</td>\n",
       "      <td>0.763524</td>\n",
       "      <td>1.000000</td>\n",
       "      <td>2013.00000</td>\n",
       "      <td>5.000000</td>\n",
       "      <td>2013.000000</td>\n",
       "      <td>6.000000</td>\n",
       "    </tr>\n",
       "    <tr>\n",
       "      <th>50%</th>\n",
       "      <td>36163.000000</td>\n",
       "      <td>6.000000</td>\n",
       "      <td>0.000000</td>\n",
       "      <td>4.000000</td>\n",
       "      <td>2.000000</td>\n",
       "      <td>0.000000</td>\n",
       "      <td>1.000000</td>\n",
       "      <td>0.000000</td>\n",
       "      <td>0.045914</td>\n",
       "      <td>1.000000</td>\n",
       "      <td>...</td>\n",
       "      <td>0.00000</td>\n",
       "      <td>0.000000</td>\n",
       "      <td>4684.000000</td>\n",
       "      <td>2.000000</td>\n",
       "      <td>0.799671</td>\n",
       "      <td>1.000000</td>\n",
       "      <td>2014.00000</td>\n",
       "      <td>6.000000</td>\n",
       "      <td>2014.000000</td>\n",
       "      <td>6.000000</td>\n",
       "    </tr>\n",
       "    <tr>\n",
       "      <th>75%</th>\n",
       "      <td>54244.000000</td>\n",
       "      <td>26.000000</td>\n",
       "      <td>2.000000</td>\n",
       "      <td>10.000000</td>\n",
       "      <td>9.000000</td>\n",
       "      <td>6.000000</td>\n",
       "      <td>6.000000</td>\n",
       "      <td>1.000000</td>\n",
       "      <td>9.932766</td>\n",
       "      <td>3.000000</td>\n",
       "      <td>...</td>\n",
       "      <td>1.00000</td>\n",
       "      <td>0.000000</td>\n",
       "      <td>9382.000000</td>\n",
       "      <td>3.000000</td>\n",
       "      <td>0.836914</td>\n",
       "      <td>1.000000</td>\n",
       "      <td>2014.00000</td>\n",
       "      <td>11.000000</td>\n",
       "      <td>2014.000000</td>\n",
       "      <td>11.000000</td>\n",
       "    </tr>\n",
       "    <tr>\n",
       "      <th>max</th>\n",
       "      <td>72325.000000</td>\n",
       "      <td>3659.000000</td>\n",
       "      <td>1930.000000</td>\n",
       "      <td>409.000000</td>\n",
       "      <td>413.000000</td>\n",
       "      <td>1014.000000</td>\n",
       "      <td>536.000000</td>\n",
       "      <td>243.000000</td>\n",
       "      <td>29.987014</td>\n",
       "      <td>30.000000</td>\n",
       "      <td>...</td>\n",
       "      <td>5.00000</td>\n",
       "      <td>2.000000</td>\n",
       "      <td>12004.000000</td>\n",
       "      <td>27.000000</td>\n",
       "      <td>0.938356</td>\n",
       "      <td>1.000000</td>\n",
       "      <td>2014.00000</td>\n",
       "      <td>12.000000</td>\n",
       "      <td>2014.000000</td>\n",
       "      <td>12.000000</td>\n",
       "    </tr>\n",
       "  </tbody>\n",
       "</table>\n",
       "<p>8 rows × 27 columns</p>\n",
       "</div>"
      ],
      "text/plain": [
       "       enrollment_id        access    discussion      navigate    page_close  \\\n",
       "count   72325.000000  72325.000000  72325.000000  72325.000000  72325.000000   \n",
       "mean    36163.000000     25.707045      5.247992      8.330052     10.182966   \n",
       "std     20878.573447     54.679282     28.351693     12.641069     20.552585   \n",
       "min         1.000000      0.000000      0.000000      0.000000      0.000000   \n",
       "25%     18082.000000      1.000000      0.000000      2.000000      0.000000   \n",
       "50%     36163.000000      6.000000      0.000000      4.000000      2.000000   \n",
       "75%     54244.000000     26.000000      2.000000     10.000000      9.000000   \n",
       "max     72325.000000   3659.000000   1930.000000    409.000000    413.000000   \n",
       "\n",
       "            problem         video          wiki  proccess_period  \\\n",
       "count  72325.000000  72325.000000  72325.000000     72325.000000   \n",
       "mean      10.446429      6.566678      0.741652         5.790234   \n",
       "std       34.335217     14.662946      3.503804         8.966359   \n",
       "min        0.000000      0.000000      0.000000         0.000000   \n",
       "25%        0.000000      0.000000      0.000000         0.001204   \n",
       "50%        0.000000      1.000000      0.000000         0.045914   \n",
       "75%        6.000000      6.000000      1.000000         9.932766   \n",
       "max     1014.000000    536.000000    243.000000        29.987014   \n",
       "\n",
       "       present_days  ...    Wednesday      holidays  course_enroll  \\\n",
       "count  72325.000000  ...  72325.00000  72325.000000   72325.000000   \n",
       "mean       2.662067  ...      0.39870      0.095099    5618.856772   \n",
       "std        3.093727  ...      0.68801      0.293918    3686.987244   \n",
       "min        1.000000  ...      0.00000      0.000000     645.000000   \n",
       "25%        1.000000  ...      0.00000      0.000000    2151.000000   \n",
       "50%        1.000000  ...      0.00000      0.000000    4684.000000   \n",
       "75%        3.000000  ...      1.00000      0.000000    9382.000000   \n",
       "max       30.000000  ...      5.00000      2.000000   12004.000000   \n",
       "\n",
       "        user_enroll  course_drop_rate  dropout_prob   start_year  \\\n",
       "count  72325.000000      72325.000000  72325.000000  72325.00000   \n",
       "mean       2.460242          0.793640      0.793640   2013.69702   \n",
       "std        2.381182          0.066570      0.404695      0.45955   \n",
       "min        1.000000          0.666866      0.000000   2013.00000   \n",
       "25%        1.000000          0.763524      1.000000   2013.00000   \n",
       "50%        2.000000          0.799671      1.000000   2014.00000   \n",
       "75%        3.000000          0.836914      1.000000   2014.00000   \n",
       "max       27.000000          0.938356      1.000000   2014.00000   \n",
       "\n",
       "        start_month      end_year     end_month  \n",
       "count  72325.000000  72325.000000  72325.000000  \n",
       "mean       7.256080   2013.729997      7.073391  \n",
       "std        3.046145      0.443964      3.112376  \n",
       "min        1.000000   2013.000000      1.000000  \n",
       "25%        5.000000   2013.000000      6.000000  \n",
       "50%        6.000000   2014.000000      6.000000  \n",
       "75%       11.000000   2014.000000     11.000000  \n",
       "max       12.000000   2014.000000     12.000000  \n",
       "\n",
       "[8 rows x 27 columns]"
      ]
     },
     "execution_count": 6,
     "metadata": {},
     "output_type": "execute_result"
    }
   ],
   "source": [
    "df.describe()"
   ]
  },
  {
   "cell_type": "code",
   "execution_count": 89,
   "metadata": {},
   "outputs": [],
   "source": [
    "#Takin Independent and dependent varivables in X and Y respectively\n",
    "X = df.drop(['dropout_prob','enrollment_id'],axis = 1)\n",
    "y = df['dropout_prob']"
   ]
  },
  {
   "cell_type": "code",
   "execution_count": 87,
   "metadata": {},
   "outputs": [],
   "source": [
    "X1 = df[['proccess_period', 'present_days', 'effective_time', 'page_close',\n",
    "       'access', 'navigate', 'video', 'problem', 'Tuesday', 'Monday',\n",
    "       'Thursday', 'user_enroll', 'Sunday', 'Wednesday', 'course_drop_rate',\n",
    "       'Saturday', 'Friday', 'course_enroll', 'discussion', 'wiki']]\n",
    "y1 = df['dropout_prob']"
   ]
  },
  {
   "cell_type": "code",
   "execution_count": null,
   "metadata": {},
   "outputs": [],
   "source": []
  },
  {
   "cell_type": "markdown",
   "metadata": {},
   "source": [
    "# HANDLING imalanced dataset"
   ]
  },
  {
   "cell_type": "code",
   "execution_count": 103,
   "metadata": {},
   "outputs": [
    {
     "name": "stderr",
     "output_type": "stream",
     "text": [
      "C:\\Users\\DEEPANKAR\\anaconda3\\lib\\site-packages\\imblearn\\utils\\_validation.py:638: FutureWarning: Pass sampling_strategy=0.5 as keyword args. From version 0.9 passing these as positional arguments will result in an error\n",
      "  FutureWarning)\n"
     ]
    },
    {
     "name": "stdout",
     "output_type": "stream",
     "text": [
      "Counter({1: 56196, 0: 27496})\n"
     ]
    }
   ],
   "source": [
    "#usin SMOTETOMEK technique \n",
    "from imblearn.combine import SMOTETomek\n",
    "from collections import Counter \n",
    "os = SMOTETomek(0.5)\n",
    "X,y = os.fit_sample(df.drop(['dropout_prob','enrollment_id'],axis = 1),df['dropout_prob'])\n",
    "print(Counter(y))\n",
    "\n"
   ]
  },
  {
   "cell_type": "markdown",
   "metadata": {},
   "source": [
    "## HANDLING FEATURES"
   ]
  },
  {
   "cell_type": "code",
   "execution_count": 8,
   "metadata": {},
   "outputs": [],
   "source": [
    "from sklearn.preprocessing import StandardScaler"
   ]
  },
  {
   "cell_type": "code",
   "execution_count": 117,
   "metadata": {},
   "outputs": [],
   "source": [
    "stand = StandardScaler()\n",
    "X = stand.fit_transform(X)"
   ]
  },
  {
   "cell_type": "code",
   "execution_count": 54,
   "metadata": {},
   "outputs": [],
   "source": [
    "stand = StandardScaler()\n",
    "X1 = stand.fit_transform(X1)"
   ]
  },
  {
   "cell_type": "code",
   "execution_count": 87,
   "metadata": {},
   "outputs": [],
   "source": [
    "#DEALIN OUTLIERS\n",
    "x = 'user_enroll'\n",
    "#Figure = df.boxplot(column = x)\n",
    "upper_bound2 = df[x].mean()+3*df[x].std()\n",
    "lower_bound2 = df[x].mean()-3*df[x].std()\n",
    "\n",
    "#IQR\n",
    "\n",
    "IQR = df[x].quantile(0.75)-df[x].quantile(0.25)\n",
    "lower1 = df[x].quantile(0.25)-3*(IQR)\n",
    "upper1 = df[x].quantile(0.75)+3*(IQR)\n"
   ]
  },
  {
   "cell_type": "code",
   "execution_count": null,
   "metadata": {},
   "outputs": [],
   "source": [
    "import numpy as np\n",
    "\n",
    "X.loc[X['navigate']> 46.25,'navigate'] = 46.25\n",
    "X.loc[X['discussion']> 10,'discussion'] = 10\n",
    "X.loc[X['access']> 101,'access'] = 101\n",
    "X.loc[X['page_close']> 36,'page_close'] = 36\n",
    "X.loc[X['problem']> 24,'problem'] = 24\n",
    "X.loc[X['video']> 24,'video'] = 24\n",
    "X.loc[X['wiki']> 4,'wiki'] = 4\n",
    "X.loc[X['proccess_period']> 39.72,'proccess_period'] = 39.72\n",
    "X.loc[X['present_days']> 9,'present_days'] = 9\n",
    "X.loc[X['effective_time']> 15,'effective_time'] = 15\n",
    "X.loc[X['user_enroll']> 9,'user_enroll'] = 9\n",
    "X['start_year'] = np.where(X['start_year']==2014,1,0)\n",
    "X['end_year'] = np.where(X['end_year']==2014,1,0)"
   ]
  },
  {
   "cell_type": "markdown",
   "metadata": {},
   "source": [
    "## FEATURE SELECTION"
   ]
  },
  {
   "cell_type": "code",
   "execution_count": null,
   "metadata": {},
   "outputs": [],
   "source": [
    "# Scoring features on basis of Importance using ExtraTreesRegressor\n",
    "\n",
    "from sklearn.ensemble import ExtraTreesClassifier\n",
    "selection = ExtraTreesClassifier()\n",
    "selection.fit(X, y)"
   ]
  },
  {
   "cell_type": "code",
   "execution_count": null,
   "metadata": {},
   "outputs": [],
   "source": [
    "#plot graph of feature importances for better visualization\n",
    "import matplotlib.pyplot as plt\n",
    "\n",
    "plt.figure(figsize = (12,8))\n",
    "feat_importances = pd.Series(selection.feature_importances_, index=X.columns)\n",
    "feat_importances.nlargest(15).plot(kind='barh')\n",
    "plt.show()"
   ]
  },
  {
   "cell_type": "code",
   "execution_count": null,
   "metadata": {},
   "outputs": [],
   "source": [
    "feat_importances.nlargest(20).index"
   ]
  },
  {
   "cell_type": "code",
   "execution_count": null,
   "metadata": {},
   "outputs": [],
   "source": []
  },
  {
   "cell_type": "code",
   "execution_count": null,
   "metadata": {},
   "outputs": [],
   "source": [
    "from sklearn.feature_selection import SelectKBest\n",
    "from sklearn.feature_selection import chi2"
   ]
  },
  {
   "cell_type": "code",
   "execution_count": null,
   "metadata": {},
   "outputs": [],
   "source": []
  },
  {
   "cell_type": "code",
   "execution_count": 118,
   "metadata": {},
   "outputs": [],
   "source": [
    "top_features = SelectKBest(score_func = chi2, k = 20)\n",
    "ordered_feature = top_features.fit(X,y)\n",
    "df_score = pd.DataFrame(ordered_feature.scores_, columns = [\"scores\"])\n",
    "df_columns = pd.DataFrame(X.columns)\n",
    "features_rank = pd.concat([df_columns,df_score],axis = 1)\n",
    "features_rank.columns = ['Features','scores']\n",
    "features_rank['scores'].sort()"
   ]
  },
  {
   "cell_type": "code",
   "execution_count": 55,
   "metadata": {},
   "outputs": [],
   "source": [
    "#SPLITTIN DATA IN TEST AND TRAIN\n",
    "from sklearn.model_selection import train_test_split\n",
    "X_train, X_test, y_train, y_test = train_test_split(X, y, test_size = 0.2, random_state = 42)"
   ]
  },
  {
   "cell_type": "markdown",
   "metadata": {},
   "source": [
    "# # #RANDOM FOREST ALGO"
   ]
  },
  {
   "cell_type": "code",
   "execution_count": 29,
   "metadata": {},
   "outputs": [],
   "source": [
    "#hyperparameter tuning\n",
    "from sklearn.model_selection import RandomizedSearchCV\n",
    "import numpy as np\n",
    "from sklearn.ensemble import RandomForestClassifier"
   ]
  },
  {
   "cell_type": "code",
   "execution_count": 30,
   "metadata": {},
   "outputs": [],
   "source": [
    "#Randomized Search CV\n",
    "\n",
    "# Number of trees in random forest\n",
    "n_estimators = [int(x) for x in np.linspace(start = 100, stop = 1200, num = 12)]\n",
    "# Number of features to consider at every split\n",
    "max_features = ['auto', 'sqrt']\n",
    "# Maximum number of levels in tree\n",
    "max_depth = [int(x) for x in np.linspace(5, 30, num = 6)]\n",
    "# Minimum number of samples required to split a node\n",
    "min_samples_split = [2, 5, 10, 15, 100]\n",
    "# Minimum number of samples required at each leaf node\n",
    "min_samples_leaf = [1, 2, 5, 10]"
   ]
  },
  {
   "cell_type": "code",
   "execution_count": 31,
   "metadata": {},
   "outputs": [],
   "source": [
    "# Create the random grid\n",
    "\n",
    "random_grid = {'n_estimators': n_estimators,\n",
    "               'max_features': max_features,\n",
    "               'max_depth': max_depth,\n",
    "               'min_samples_split': min_samples_split,\n",
    "               'min_samples_leaf': min_samples_leaf}"
   ]
  },
  {
   "cell_type": "code",
   "execution_count": 32,
   "metadata": {},
   "outputs": [],
   "source": [
    "# Random search of parameters, using 5 fold cross validation, \n",
    "# search across 100 different combinations\n",
    "from sklearn.ensemble import RandomForestClassifier\n",
    "cls_rf = RandomForestClassifier()\n",
    "cls_random = RandomizedSearchCV(estimator = cls_rf, param_distributions = random_grid, n_iter = 6, cv = 5, verbose=2, random_state=42, n_jobs = 1)"
   ]
  },
  {
   "cell_type": "code",
   "execution_count": 33,
   "metadata": {
    "scrolled": true
   },
   "outputs": [
    {
     "name": "stdout",
     "output_type": "stream",
     "text": [
      "Fitting 5 folds for each of 6 candidates, totalling 30 fits\n",
      "[CV] n_estimators=900, min_samples_split=5, min_samples_leaf=5, max_features=sqrt, max_depth=10 \n"
     ]
    },
    {
     "name": "stderr",
     "output_type": "stream",
     "text": [
      "[Parallel(n_jobs=1)]: Using backend SequentialBackend with 1 concurrent workers.\n"
     ]
    },
    {
     "name": "stdout",
     "output_type": "stream",
     "text": [
      "[CV]  n_estimators=900, min_samples_split=5, min_samples_leaf=5, max_features=sqrt, max_depth=10, total= 1.1min\n",
      "[CV] n_estimators=900, min_samples_split=5, min_samples_leaf=5, max_features=sqrt, max_depth=10 \n"
     ]
    },
    {
     "name": "stderr",
     "output_type": "stream",
     "text": [
      "[Parallel(n_jobs=1)]: Done   1 out of   1 | elapsed:  1.1min remaining:    0.0s\n"
     ]
    },
    {
     "name": "stdout",
     "output_type": "stream",
     "text": [
      "[CV]  n_estimators=900, min_samples_split=5, min_samples_leaf=5, max_features=sqrt, max_depth=10, total= 1.0min\n",
      "[CV] n_estimators=900, min_samples_split=5, min_samples_leaf=5, max_features=sqrt, max_depth=10 \n",
      "[CV]  n_estimators=900, min_samples_split=5, min_samples_leaf=5, max_features=sqrt, max_depth=10, total= 1.0min\n",
      "[CV] n_estimators=900, min_samples_split=5, min_samples_leaf=5, max_features=sqrt, max_depth=10 \n",
      "[CV]  n_estimators=900, min_samples_split=5, min_samples_leaf=5, max_features=sqrt, max_depth=10, total= 1.0min\n",
      "[CV] n_estimators=900, min_samples_split=5, min_samples_leaf=5, max_features=sqrt, max_depth=10 \n",
      "[CV]  n_estimators=900, min_samples_split=5, min_samples_leaf=5, max_features=sqrt, max_depth=10, total= 1.0min\n",
      "[CV] n_estimators=1100, min_samples_split=10, min_samples_leaf=2, max_features=sqrt, max_depth=15 \n",
      "[CV]  n_estimators=1100, min_samples_split=10, min_samples_leaf=2, max_features=sqrt, max_depth=15, total= 1.6min\n",
      "[CV] n_estimators=1100, min_samples_split=10, min_samples_leaf=2, max_features=sqrt, max_depth=15 \n",
      "[CV]  n_estimators=1100, min_samples_split=10, min_samples_leaf=2, max_features=sqrt, max_depth=15, total= 1.7min\n",
      "[CV] n_estimators=1100, min_samples_split=10, min_samples_leaf=2, max_features=sqrt, max_depth=15 \n",
      "[CV]  n_estimators=1100, min_samples_split=10, min_samples_leaf=2, max_features=sqrt, max_depth=15, total= 1.8min\n",
      "[CV] n_estimators=1100, min_samples_split=10, min_samples_leaf=2, max_features=sqrt, max_depth=15 \n",
      "[CV]  n_estimators=1100, min_samples_split=10, min_samples_leaf=2, max_features=sqrt, max_depth=15, total= 1.6min\n",
      "[CV] n_estimators=1100, min_samples_split=10, min_samples_leaf=2, max_features=sqrt, max_depth=15 \n",
      "[CV]  n_estimators=1100, min_samples_split=10, min_samples_leaf=2, max_features=sqrt, max_depth=15, total= 1.6min\n",
      "[CV] n_estimators=300, min_samples_split=100, min_samples_leaf=5, max_features=auto, max_depth=15 \n",
      "[CV]  n_estimators=300, min_samples_split=100, min_samples_leaf=5, max_features=auto, max_depth=15, total=  25.9s\n",
      "[CV] n_estimators=300, min_samples_split=100, min_samples_leaf=5, max_features=auto, max_depth=15 \n",
      "[CV]  n_estimators=300, min_samples_split=100, min_samples_leaf=5, max_features=auto, max_depth=15, total= 1.8min\n",
      "[CV] n_estimators=300, min_samples_split=100, min_samples_leaf=5, max_features=auto, max_depth=15 \n",
      "[CV]  n_estimators=300, min_samples_split=100, min_samples_leaf=5, max_features=auto, max_depth=15, total=  26.9s\n",
      "[CV] n_estimators=300, min_samples_split=100, min_samples_leaf=5, max_features=auto, max_depth=15 \n",
      "[CV]  n_estimators=300, min_samples_split=100, min_samples_leaf=5, max_features=auto, max_depth=15, total=  24.5s\n",
      "[CV] n_estimators=300, min_samples_split=100, min_samples_leaf=5, max_features=auto, max_depth=15 \n",
      "[CV]  n_estimators=300, min_samples_split=100, min_samples_leaf=5, max_features=auto, max_depth=15, total=  24.6s\n",
      "[CV] n_estimators=400, min_samples_split=5, min_samples_leaf=5, max_features=auto, max_depth=15 \n",
      "[CV]  n_estimators=400, min_samples_split=5, min_samples_leaf=5, max_features=auto, max_depth=15, total=  35.6s\n",
      "[CV] n_estimators=400, min_samples_split=5, min_samples_leaf=5, max_features=auto, max_depth=15 \n",
      "[CV]  n_estimators=400, min_samples_split=5, min_samples_leaf=5, max_features=auto, max_depth=15, total=  35.5s\n",
      "[CV] n_estimators=400, min_samples_split=5, min_samples_leaf=5, max_features=auto, max_depth=15 \n",
      "[CV]  n_estimators=400, min_samples_split=5, min_samples_leaf=5, max_features=auto, max_depth=15, total=  35.0s\n",
      "[CV] n_estimators=400, min_samples_split=5, min_samples_leaf=5, max_features=auto, max_depth=15 \n",
      "[CV]  n_estimators=400, min_samples_split=5, min_samples_leaf=5, max_features=auto, max_depth=15, total=  35.2s\n",
      "[CV] n_estimators=400, min_samples_split=5, min_samples_leaf=5, max_features=auto, max_depth=15 \n",
      "[CV]  n_estimators=400, min_samples_split=5, min_samples_leaf=5, max_features=auto, max_depth=15, total=  35.3s\n",
      "[CV] n_estimators=700, min_samples_split=5, min_samples_leaf=10, max_features=auto, max_depth=20 \n",
      "[CV]  n_estimators=700, min_samples_split=5, min_samples_leaf=10, max_features=auto, max_depth=20, total= 1.1min\n",
      "[CV] n_estimators=700, min_samples_split=5, min_samples_leaf=10, max_features=auto, max_depth=20 \n",
      "[CV]  n_estimators=700, min_samples_split=5, min_samples_leaf=10, max_features=auto, max_depth=20, total= 1.0min\n",
      "[CV] n_estimators=700, min_samples_split=5, min_samples_leaf=10, max_features=auto, max_depth=20 \n",
      "[CV]  n_estimators=700, min_samples_split=5, min_samples_leaf=10, max_features=auto, max_depth=20, total= 1.0min\n",
      "[CV] n_estimators=700, min_samples_split=5, min_samples_leaf=10, max_features=auto, max_depth=20 \n",
      "[CV]  n_estimators=700, min_samples_split=5, min_samples_leaf=10, max_features=auto, max_depth=20, total= 1.0min\n",
      "[CV] n_estimators=700, min_samples_split=5, min_samples_leaf=10, max_features=auto, max_depth=20 \n",
      "[CV]  n_estimators=700, min_samples_split=5, min_samples_leaf=10, max_features=auto, max_depth=20, total= 1.0min\n",
      "[CV] n_estimators=1000, min_samples_split=2, min_samples_leaf=1, max_features=sqrt, max_depth=25 \n",
      "[CV]  n_estimators=1000, min_samples_split=2, min_samples_leaf=1, max_features=sqrt, max_depth=25, total= 1.8min\n",
      "[CV] n_estimators=1000, min_samples_split=2, min_samples_leaf=1, max_features=sqrt, max_depth=25 \n",
      "[CV]  n_estimators=1000, min_samples_split=2, min_samples_leaf=1, max_features=sqrt, max_depth=25, total= 1.8min\n",
      "[CV] n_estimators=1000, min_samples_split=2, min_samples_leaf=1, max_features=sqrt, max_depth=25 \n",
      "[CV]  n_estimators=1000, min_samples_split=2, min_samples_leaf=1, max_features=sqrt, max_depth=25, total= 1.8min\n",
      "[CV] n_estimators=1000, min_samples_split=2, min_samples_leaf=1, max_features=sqrt, max_depth=25 \n",
      "[CV]  n_estimators=1000, min_samples_split=2, min_samples_leaf=1, max_features=sqrt, max_depth=25, total= 1.8min\n",
      "[CV] n_estimators=1000, min_samples_split=2, min_samples_leaf=1, max_features=sqrt, max_depth=25 \n",
      "[CV]  n_estimators=1000, min_samples_split=2, min_samples_leaf=1, max_features=sqrt, max_depth=25, total= 1.8min\n"
     ]
    },
    {
     "name": "stderr",
     "output_type": "stream",
     "text": [
      "[Parallel(n_jobs=1)]: Done  30 out of  30 | elapsed: 34.1min finished\n"
     ]
    },
    {
     "data": {
      "text/plain": [
       "RandomizedSearchCV(cv=5, estimator=RandomForestClassifier(), n_iter=6, n_jobs=1,\n",
       "                   param_distributions={'max_depth': [5, 10, 15, 20, 25, 30],\n",
       "                                        'max_features': ['auto', 'sqrt'],\n",
       "                                        'min_samples_leaf': [1, 2, 5, 10],\n",
       "                                        'min_samples_split': [2, 5, 10, 15,\n",
       "                                                              100],\n",
       "                                        'n_estimators': [100, 200, 300, 400,\n",
       "                                                         500, 600, 700, 800,\n",
       "                                                         900, 1000, 1100,\n",
       "                                                         1200]},\n",
       "                   random_state=42, verbose=2)"
      ]
     },
     "execution_count": 33,
     "metadata": {},
     "output_type": "execute_result"
    }
   ],
   "source": [
    "cls_random.fit(X_train,y_train)"
   ]
  },
  {
   "cell_type": "code",
   "execution_count": 23,
   "metadata": {
    "collapsed": true
   },
   "outputs": [
    {
     "data": {
      "text/plain": [
       "{'n_estimators': 300,\n",
       " 'min_samples_split': 15,\n",
       " 'min_samples_leaf': 1,\n",
       " 'max_features': 'sqrt',\n",
       " 'max_depth': 15}"
      ]
     },
     "execution_count": 23,
     "metadata": {},
     "output_type": "execute_result"
    }
   ],
   "source": [
    "cls_random.best_params_"
   ]
  },
  {
   "cell_type": "code",
   "execution_count": 34,
   "metadata": {},
   "outputs": [],
   "source": [
    "predict = cls_random.predict(X_test)"
   ]
  },
  {
   "cell_type": "code",
   "execution_count": 35,
   "metadata": {},
   "outputs": [
    {
     "name": "stdout",
     "output_type": "stream",
     "text": [
      "[[ 4299  1130]\n",
      " [  737 10547]]\n",
      "0.8882905522647041\n",
      "              precision    recall  f1-score   support\n",
      "\n",
      "           0       0.85      0.79      0.82      5429\n",
      "           1       0.90      0.93      0.92     11284\n",
      "\n",
      "    accuracy                           0.89     16713\n",
      "   macro avg       0.88      0.86      0.87     16713\n",
      "weighted avg       0.89      0.89      0.89     16713\n",
      "\n",
      "0.918688210443796\n"
     ]
    }
   ],
   "source": [
    "from sklearn import metrics\n",
    "print(metrics.confusion_matrix(y_test,predict))\n",
    "print(metrics.accuracy_score(y_test,predict))\n",
    "print(metrics.classification_report(y_test,predict))\n",
    "print(metrics.f1_score(y_test,predict))"
   ]
  },
  {
   "cell_type": "code",
   "execution_count": null,
   "metadata": {},
   "outputs": [],
   "source": []
  },
  {
   "cell_type": "markdown",
   "metadata": {},
   "source": [
    "## ADABOOST ALGO"
   ]
  },
  {
   "cell_type": "code",
   "execution_count": 26,
   "metadata": {},
   "outputs": [],
   "source": [
    "from sklearn.ensemble import AdaBoostClassifier"
   ]
  },
  {
   "cell_type": "code",
   "execution_count": 127,
   "metadata": {},
   "outputs": [],
   "source": [
    "# Create adaboost classifer object\n",
    "abc = AdaBoostClassifier(n_estimators=50,\n",
    "                         learning_rate=1)\n",
    "# Train Adaboost Classifer\n",
    "model = abc.fit(X_train, y_train)\n",
    "\n",
    "#Predict the response for test dataset\n",
    "predict3 = model.predict(X_test)"
   ]
  },
  {
   "cell_type": "code",
   "execution_count": 128,
   "metadata": {},
   "outputs": [
    {
     "name": "stdout",
     "output_type": "stream",
     "text": [
      "[[ 3645  1789]\n",
      " [  839 10466]]\n",
      "0.8430013740366809\n",
      "              precision    recall  f1-score   support\n",
      "\n",
      "           0       0.81      0.67      0.74      5434\n",
      "           1       0.85      0.93      0.89     11305\n",
      "\n",
      "    accuracy                           0.84     16739\n",
      "   macro avg       0.83      0.80      0.81     16739\n",
      "weighted avg       0.84      0.84      0.84     16739\n",
      "\n",
      "0.8884550084889643\n"
     ]
    }
   ],
   "source": [
    "from sklearn import metrics\n",
    "print(metrics.confusion_matrix(y_test,predict3))\n",
    "print(metrics.accuracy_score(y_test,predict3))\n",
    "print(metrics.classification_report(y_test,predict3))\n",
    "print(metrics.f1_score(y_test,predict3))"
   ]
  }
 ],
 "metadata": {
  "kernelspec": {
   "display_name": "Python 3",
   "language": "python",
   "name": "python3"
  },
  "language_info": {
   "codemirror_mode": {
    "name": "ipython",
    "version": 3
   },
   "file_extension": ".py",
   "mimetype": "text/x-python",
   "name": "python",
   "nbconvert_exporter": "python",
   "pygments_lexer": "ipython3",
   "version": "3.7.6"
  }
 },
 "nbformat": 4,
 "nbformat_minor": 4
}
